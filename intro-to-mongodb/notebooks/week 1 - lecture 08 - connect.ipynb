{
 "cells": [
  {
   "cell_type": "code",
   "execution_count": 2,
   "metadata": {},
   "outputs": [],
   "source": [
    "from pymongo import MongoClient\n",
    "from connect import uri\n",
    "\n",
    "# Replace XXXX with your connection URI from the Atlas UI\n",
    "client = MongoClient(uri('local'))\n"
   ]
  },
  {
   "cell_type": "code",
   "execution_count": null,
   "metadata": {},
   "outputs": [],
   "source": [
    "# connect remote\n",
    "print(client.mflix)\n",
    "results = client.mflix.movies_initial.find_one()\n",
    "print(results)"
   ]
  },
  {
   "cell_type": "code",
   "execution_count": 13,
   "metadata": {},
   "outputs": [
    {
     "name": "stdout",
     "output_type": "stream",
     "text": [
      "{'_id': ObjectId('57d7a121fa937f710a7d486e'), 'last_name': 'Pham', 'quote': 'Aliquam est reiciendis alias neque ad.', 'job': 'Counselling psychologist', 'ssn': '401-31-6615', 'address': {'city': 'Burgessborough', 'street': '83248 Woods Extension', 'zip': '47201'}, 'first_name': 'Yvonne', 'company_id': ObjectId('57d7a121fa937f710a7d486d'), 'employer': 'Terry and Sons', 'birthday': datetime.datetime(2011, 3, 17, 11, 21, 36), 'email': 'murillobrian@cox.net'}\n"
     ]
    }
   ],
   "source": [
    "# connect local\n",
    "db = client.cleansing\n",
    "c = db['people-raw']  # can't have a hyphen in the name when referencing in object style\n",
    "results = c.find_one()\n",
    "print(results)"
   ]
  },
  {
   "cell_type": "code",
   "execution_count": 14,
   "metadata": {},
   "outputs": [
    {
     "name": "stdout",
     "output_type": "stream",
     "text": [
      "{'_id': ObjectId('5aba3b3c90b34937e0d4348d'), 'date': datetime.datetime(2018, 3, 27, 12, 38, 20, 297000), 'text': 'My first blog post!', 'tags': ['mongodb', 'python', 'pymongo'], 'author': 'Mike'}\n"
     ]
    }
   ],
   "source": [
    "# connect local\n",
    "db = client.test_database\n",
    "c = db.test_collection\n",
    "results = c.find_one()\n",
    "print(results)"
   ]
  },
  {
   "cell_type": "code",
   "execution_count": null,
   "metadata": {
    "collapsed": true
   },
   "outputs": [],
   "source": []
  }
 ],
 "metadata": {
  "kernelspec": {
   "display_name": "Python 3",
   "language": "python",
   "name": "python3"
  },
  "language_info": {
   "codemirror_mode": {
    "name": "ipython",
    "version": 3
   },
   "file_extension": ".py",
   "mimetype": "text/x-python",
   "name": "python",
   "nbconvert_exporter": "python",
   "pygments_lexer": "ipython3",
   "version": "3.6.2"
  }
 },
 "nbformat": 4,
 "nbformat_minor": 1
}
